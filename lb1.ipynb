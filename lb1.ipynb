{
 "cells": [
  {
   "cell_type": "code",
   "execution_count": 1,
   "metadata": {},
   "outputs": [
    {
     "name": "stdout",
     "output_type": "stream",
     "text": [
      "MM\n"
     ]
    }
   ],
   "source": [
    "print(\"MM\")"
   ]
  },
  {
   "cell_type": "code",
   "execution_count": 16,
   "metadata": {},
   "outputs": [],
   "source": [
    "# krok 1\n",
    "\n",
    "kat = float(input(\"Podaj kat w stopniach: \"))\n",
    "predkosc = float(input(\"Podaj predkosc w m/s\"))"
   ]
  },
  {
   "cell_type": "code",
   "execution_count": 3,
   "metadata": {},
   "outputs": [
    {
     "data": {
      "text/plain": [
       "30.0"
      ]
     },
     "execution_count": 3,
     "metadata": {},
     "output_type": "execute_result"
    }
   ],
   "source": [
    "kat"
   ]
  },
  {
   "cell_type": "code",
   "execution_count": 7,
   "metadata": {},
   "outputs": [
    {
     "name": "stdout",
     "output_type": "stream",
     "text": [
      "Nieprawidlowy kat - musi byc z przedzialu [0,90]\n"
     ]
    }
   ],
   "source": [
    "# krok 2\n",
    "if kat < 0.0 or kat > 90.0:\n",
    "    print(\"Nieprawidlowy kat - musi byc z przedzialu [0,90]\")\n",
    "else:\n",
    "    print(f\"Poprawna wartosc: {kat}\")\n",
    "    "
   ]
  },
  {
   "cell_type": "code",
   "execution_count": 11,
   "metadata": {},
   "outputs": [],
   "source": [
    "# krok 3\n",
    "while not 0 <= (kat:=float(input(\"Podaj kąt w stopniach: \"))) <= 90:\n",
    "   pass"
   ]
  },
  {
   "cell_type": "code",
   "execution_count": null,
   "metadata": {},
   "outputs": [
    {
     "name": "stdout",
     "output_type": "stream",
     "text": [
      "731.0455014005031\n"
     ]
    }
   ],
   "source": [
    "# krok 4\n",
    "GRAVITY = 9.81\n",
    "\n",
    "import math\n",
    "zasieg = (predkosc ** 2) * math.sin(math.radians(2 * kat)) / GRAVITY\n",
    "print(zasieg)"
   ]
  },
  {
   "cell_type": "code",
   "execution_count": null,
   "metadata": {},
   "outputs": [],
   "source": [
    "# krok 5\n",
    "def calculate_impact(predkosc, kat):\n",
    "    return (predkosc ** 2) * math.sin(math.radians(2 * kat)) / GRAVITY\n",
    "\n",
    "def get_input():\n",
    "   while not 0 <= (kat:=float(input(\"Podaj kąt w stopniach: \"))) <= 90:\n",
    "       ...\n",
    "   predkosc = float(input(\"Podaj predkosc w m/s\"))\n",
    "   return kat, predkosc\n",
    "\n",
    "def main():\n",
    "    while True:\n",
    "        kat, predkosc = get_input()\n",
    "        calculate_impact(kat, predkosc)\n",
    "\n",
    "# krok 6\n",
    "    trafiony = False \n",
    "    dISTANCE = 10\n",
    "    IMPACT_RADIOUS = 1\n",
    "    runda = 0\n",
    "    while not trafiony:\n",
    "        kat, predkosc = get_input()\n",
    "       if(math.abs(DISTANCE - calculate_impact(predkosc, kat) < IMPACT_RADIOUS)):\n",
    "            trafiony = True\n",
    "            print(\"gracz\", runda % 2, \"wygral\")\n",
    "       runda += 1\n",
    "    \n"
   ]
  },
  {
   "cell_type": "code",
   "execution_count": 27,
   "metadata": {},
   "outputs": [
    {
     "ename": "ValueError",
     "evalue": "could not convert string to float: ''",
     "output_type": "error",
     "traceback": [
      "\u001b[1;31m---------------------------------------------------------------------------\u001b[0m",
      "\u001b[1;31mValueError\u001b[0m                                Traceback (most recent call last)",
      "Cell \u001b[1;32mIn[27], line 1\u001b[0m\n\u001b[1;32m----> 1\u001b[0m \u001b[43mmain\u001b[49m\u001b[43m(\u001b[49m\u001b[43m)\u001b[49m\n",
      "Cell \u001b[1;32mIn[26], line 13\u001b[0m, in \u001b[0;36mmain\u001b[1;34m()\u001b[0m\n\u001b[0;32m     11\u001b[0m \u001b[38;5;28;01mdef\u001b[39;00m\u001b[38;5;250m \u001b[39m\u001b[38;5;21mmain\u001b[39m():\n\u001b[0;32m     12\u001b[0m     \u001b[38;5;28;01mwhile\u001b[39;00m \u001b[38;5;28;01mTrue\u001b[39;00m:\n\u001b[1;32m---> 13\u001b[0m         kat, predkosc \u001b[38;5;241m=\u001b[39m \u001b[43mget_input\u001b[49m\u001b[43m(\u001b[49m\u001b[43m)\u001b[49m\n\u001b[0;32m     14\u001b[0m         calculate_impact(kat, predkosc)\n",
      "Cell \u001b[1;32mIn[26], line 8\u001b[0m, in \u001b[0;36mget_input\u001b[1;34m()\u001b[0m\n\u001b[0;32m      6\u001b[0m \u001b[38;5;28;01mwhile\u001b[39;00m \u001b[38;5;129;01mnot\u001b[39;00m \u001b[38;5;241m0\u001b[39m \u001b[38;5;241m<\u001b[39m\u001b[38;5;241m=\u001b[39m (kat\u001b[38;5;241m:=\u001b[39m\u001b[38;5;28mfloat\u001b[39m(\u001b[38;5;28minput\u001b[39m(\u001b[38;5;124m\"\u001b[39m\u001b[38;5;124mPodaj kąt w stopniach: \u001b[39m\u001b[38;5;124m\"\u001b[39m))) \u001b[38;5;241m<\u001b[39m\u001b[38;5;241m=\u001b[39m \u001b[38;5;241m90\u001b[39m:\n\u001b[0;32m      7\u001b[0m     \u001b[38;5;241m.\u001b[39m\u001b[38;5;241m.\u001b[39m\u001b[38;5;241m.\u001b[39m\n\u001b[1;32m----> 8\u001b[0m predkosc \u001b[38;5;241m=\u001b[39m \u001b[38;5;28;43mfloat\u001b[39;49m\u001b[43m(\u001b[49m\u001b[38;5;28;43minput\u001b[39;49m\u001b[43m(\u001b[49m\u001b[38;5;124;43m\"\u001b[39;49m\u001b[38;5;124;43mPodaj predkosc w m/s\u001b[39;49m\u001b[38;5;124;43m\"\u001b[39;49m\u001b[43m)\u001b[49m\u001b[43m)\u001b[49m\n\u001b[0;32m      9\u001b[0m \u001b[38;5;28;01mreturn\u001b[39;00m kat, predkosc\n",
      "\u001b[1;31mValueError\u001b[0m: could not convert string to float: ''"
     ]
    }
   ],
   "source": [
    "main()"
   ]
  },
  {
   "cell_type": "code",
   "execution_count": null,
   "metadata": {},
   "outputs": [],
   "source": [
    "# krok 6\n"
   ]
  }
 ],
 "metadata": {
  "kernelspec": {
   "display_name": "Python 3",
   "language": "python",
   "name": "python3"
  },
  "language_info": {
   "codemirror_mode": {
    "name": "ipython",
    "version": 3
   },
   "file_extension": ".py",
   "mimetype": "text/x-python",
   "name": "python",
   "nbconvert_exporter": "python",
   "pygments_lexer": "ipython3",
   "version": "3.12.1"
  }
 },
 "nbformat": 4,
 "nbformat_minor": 2
}
